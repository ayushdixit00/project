{
 "cells": [
  {
   "cell_type": "code",
   "execution_count": 2,
   "id": "f734ecb2-6a9c-4c34-ab83-4be49a14ae02",
   "metadata": {},
   "outputs": [
    {
     "name": "stdout",
     "output_type": "stream",
     "text": [
      "after swapping:\n",
      "x= 2\n",
      "y= 1\n"
     ]
    }
   ],
   "source": [
    "x =1\n",
    "y =2\n",
    "x,y=y,x\n",
    "print(\"after swapping:\")\n",
    "print(\"x=\",x)\n",
    "print(\"y=\",y)\n",
    "\n"
   ]
  },
  {
   "cell_type": "code",
   "execution_count": 3,
   "id": "21a43d2b-8e88-4980-a0b8-76f575bd7445",
   "metadata": {},
   "outputs": [
    {
     "name": "stdin",
     "output_type": "stream",
     "text": [
      "Enter the radius of the circle:  5\n"
     ]
    },
    {
     "name": "stdout",
     "output_type": "stream",
     "text": [
      "The area of the circle with radius 5.0 is: 78.53981633974483\n"
     ]
    }
   ],
   "source": [
    "import math\n",
    "\n",
    "def calculate_circle_area(radius):\n",
    "    if radius < 0:\n",
    "        return \"Radius cannot be negative\"\n",
    "    else:\n",
    "        area = math.pi * (radius ** 2)\n",
    "        return area\n",
    "\n",
    "radius = float(input(\"Enter the radius of the circle: \"))\n",
    "circle_area = calculate_circle_area(radius)\n",
    "print(f\"The area of the circle with radius {radius} is: {circle_area}\")\n"
   ]
  },
  {
   "cell_type": "code",
   "execution_count": 12,
   "id": "1c26ee9c-cb3b-42f6-b178-fe1b297e4fe1",
   "metadata": {},
   "outputs": [
    {
     "name": "stdin",
     "output_type": "stream",
     "text": [
      " ayush\n"
     ]
    },
    {
     "name": "stdout",
     "output_type": "stream",
     "text": [
      "lenght of l 5\n"
     ]
    }
   ],
   "source": [
    "l= (input())\n",
    "print(\"lenght of l\",len(l))"
   ]
  },
  {
   "cell_type": "code",
   "execution_count": null,
   "id": "7970f0b2-1f4d-4fbc-98c9-63c9802062f7",
   "metadata": {},
   "outputs": [],
   "source": []
  }
 ],
 "metadata": {
  "kernelspec": {
   "display_name": "Python 3 (ipykernel)",
   "language": "python",
   "name": "python3"
  },
  "language_info": {
   "codemirror_mode": {
    "name": "ipython",
    "version": 3
   },
   "file_extension": ".py",
   "mimetype": "text/x-python",
   "name": "python",
   "nbconvert_exporter": "python",
   "pygments_lexer": "ipython3",
   "version": "3.10.8"
  }
 },
 "nbformat": 4,
 "nbformat_minor": 5
}
